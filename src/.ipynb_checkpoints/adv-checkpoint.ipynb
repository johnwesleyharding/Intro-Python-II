{
 "cells": [
  {
   "cell_type": "code",
   "execution_count": 1,
   "metadata": {},
   "outputs": [],
   "source": [
    "from room import Room\n",
    "from player import Player\n",
    "from item import Item"
   ]
  },
  {
   "cell_type": "code",
   "execution_count": 2,
   "metadata": {},
   "outputs": [],
   "source": [
    "room = {\n",
    "    'outside':  Room(\"Outside Cave Entrance\",\n",
    "                     \"North of you, the cave mount beckons\"),\n",
    "\n",
    "    'foyer':    Room(\"Foyer\", \"\"\"Dim light filters in from the south. Dusty\n",
    "passages run north and east.\"\"\"),\n",
    "\n",
    "    'overlook': Room(\"Grand Overlook\", \"\"\"A steep cliff appears before you, falling\n",
    "into the darkness. Ahead to the north, a light flickers in\n",
    "the distance, but there is no way across the chasm.\"\"\"),\n",
    "\n",
    "    'narrow':   Room(\"Narrow Passage\", \"\"\"The narrow passage bends here from west\n",
    "to north. The smell of gold permeates the air.\"\"\"),\n",
    "\n",
    "    'treasure': Room(\"Treasure Chamber\", \"\"\"You've found the long-lost treasure\n",
    "chamber! Sadly, it has already been completely emptied by\n",
    "earlier adventurers. The only exit is to the south.\"\"\"),\n",
    "}"
   ]
  },
  {
   "cell_type": "code",
   "execution_count": 3,
   "metadata": {},
   "outputs": [],
   "source": [
    "room['outside'].n_to = 'foyer'\n",
    "room['foyer'].s_to = 'outside'\n",
    "room['foyer'].n_to = 'overlook'\n",
    "room['foyer'].e_to = 'narrow'\n",
    "room['overlook'].s_to = 'foyer'\n",
    "room['narrow'].w_to = 'foyer'\n",
    "room['narrow'].n_to = 'treasure'\n",
    "room['treasure'].s_to = 'narrow'"
   ]
  },
  {
   "cell_type": "code",
   "execution_count": 4,
   "metadata": {},
   "outputs": [],
   "source": [
    "hero = Player('Hero')"
   ]
  },
  {
   "cell_type": "code",
   "execution_count": 5,
   "metadata": {},
   "outputs": [
    {
     "name": "stdout",
     "output_type": "stream",
     "text": [
      "Outside Cave Entrance\n",
      "North of you, the cave mount beckons\n"
     ]
    },
    {
     "name": "stdin",
     "output_type": "stream",
     "text": [
      "Action?  n\n"
     ]
    },
    {
     "name": "stdout",
     "output_type": "stream",
     "text": [
      "Foyer\n",
      "Dim light filters in from the south. Dusty\n",
      "passages run north and east.\n"
     ]
    },
    {
     "name": "stdin",
     "output_type": "stream",
     "text": [
      "Action?  q\n"
     ]
    }
   ],
   "source": [
    "while True:\n",
    "\n",
    "    print(room[hero.room].name)\n",
    "    print(room[hero.room].description)\n",
    "    \n",
    "    action = input('Action? ').lower()\n",
    "    \n",
    "    if action in ('n', 'e', 's', 'w'):\n",
    "        \n",
    "#         action += '_to'\n",
    "#         hero.room = room[hero.room].getattr(Room, action)\n",
    "\n",
    "        hero.room = room[hero.room].n_to\n",
    "    \n",
    "    elif action == 'q':\n",
    "        \n",
    "        break\n",
    "        \n",
    "    else:\n",
    "        \n",
    "        print('Enter n, e, s, w to move or q to quit')"
   ]
  },
  {
   "cell_type": "code",
   "execution_count": null,
   "metadata": {},
   "outputs": [],
   "source": []
  }
 ],
 "metadata": {
  "kernelspec": {
   "display_name": "Python 3",
   "language": "python",
   "name": "python3"
  },
  "language_info": {
   "codemirror_mode": {
    "name": "ipython",
    "version": 3
   },
   "file_extension": ".py",
   "mimetype": "text/x-python",
   "name": "python",
   "nbconvert_exporter": "python",
   "pygments_lexer": "ipython3",
   "version": "3.7.4"
  }
 },
 "nbformat": 4,
 "nbformat_minor": 4
}
