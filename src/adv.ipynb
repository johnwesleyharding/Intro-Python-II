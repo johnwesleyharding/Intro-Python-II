{
 "cells": [
  {
   "cell_type": "code",
   "execution_count": 1,
   "metadata": {},
   "outputs": [],
   "source": [
    "from room import Room\n",
    "from player import Player\n",
    "from item import Item"
   ]
  },
  {
   "cell_type": "code",
   "execution_count": 2,
   "metadata": {},
   "outputs": [],
   "source": [
    "cloak = Item('cloak', 'The cloak itself is invisible.')\n",
    "shield = Item('shield', 'It will keep the rain off of your head.')"
   ]
  },
  {
   "cell_type": "code",
   "execution_count": 9,
   "metadata": {},
   "outputs": [],
   "source": [
    "room = {\n",
    "    'outside':  Room(\"Outside Cave Entrance\",\n",
    "                     \"North of you, the cave mount beckons\",\n",
    "                    [cloak]),\n",
    "\n",
    "    'foyer':    Room(\"Foyer\", \"\"\"Dim light filters in from the south. Dusty\n",
    "passages run north and east.\"\"\",\n",
    "                    [shield]),\n",
    "\n",
    "    'overlook': Room(\"Grand Overlook\", \"\"\"A steep cliff appears before you, falling\n",
    "into the darkness. Ahead to the north, a light flickers in\n",
    "the distance, but there is no way across the chasm.\"\"\"),\n",
    "\n",
    "    'narrow':   Room(\"Narrow Passage\", \"\"\"The narrow passage bends here from west\n",
    "to north. The smell of gold permeates the air.\"\"\"),\n",
    "\n",
    "    'treasure': Room(\"Treasure Chamber\", \"\"\"You've found the long-lost treasure\n",
    "chamber! Sadly, it has already been completely emptied by\n",
    "earlier adventurers. The only exit is to the south.\"\"\"),\n",
    "}"
   ]
  },
  {
   "cell_type": "code",
   "execution_count": 10,
   "metadata": {},
   "outputs": [],
   "source": [
    "room['outside'].n_to = 'foyer'\n",
    "room['foyer'].s_to = 'outside'\n",
    "room['foyer'].n_to = 'overlook'\n",
    "room['foyer'].e_to = 'narrow'\n",
    "room['overlook'].s_to = 'foyer'\n",
    "room['narrow'].w_to = 'foyer'\n",
    "room['narrow'].n_to = 'treasure'\n",
    "room['treasure'].s_to = 'narrow'"
   ]
  },
  {
   "cell_type": "code",
   "execution_count": 11,
   "metadata": {},
   "outputs": [],
   "source": [
    "hero = Player('Hero')"
   ]
  },
  {
   "cell_type": "code",
   "execution_count": 17,
   "metadata": {},
   "outputs": [
    {
     "name": "stdout",
     "output_type": "stream",
     "text": [
      "Outside Cave Entrance\n",
      "North of you, the cave mount beckons\n",
      "\n",
      "Action? n\n",
      "Foyer\n",
      "Dim light filters in from the south. Dusty\n",
      "passages run north and east.\n",
      "The room contains: ['shield']\n",
      "\n",
      "Action? take shield\n",
      "[<item.Item object at 0x000002B34DC22148>]\n"
     ]
    },
    {
     "ename": "AttributeError",
     "evalue": "'str' object has no attribute 'name'",
     "output_type": "error",
     "traceback": [
      "\u001b[1;31m---------------------------------------------------------------------------\u001b[0m",
      "\u001b[1;31mAttributeError\u001b[0m                            Traceback (most recent call last)",
      "\u001b[1;32m<ipython-input-17-1cb86d097a04>\u001b[0m in \u001b[0;36m<module>\u001b[1;34m\u001b[0m\n\u001b[0;32m     62\u001b[0m \u001b[1;31m#             room[hero.room].items.remove(target)\u001b[0m\u001b[1;33m\u001b[0m\u001b[1;33m\u001b[0m\u001b[1;33m\u001b[0m\u001b[0m\n\u001b[0;32m     63\u001b[0m             \u001b[0mprint\u001b[0m\u001b[1;33m(\u001b[0m\u001b[0mroom\u001b[0m\u001b[1;33m[\u001b[0m\u001b[0mhero\u001b[0m\u001b[1;33m.\u001b[0m\u001b[0mroom\u001b[0m\u001b[1;33m]\u001b[0m\u001b[1;33m.\u001b[0m\u001b[0mitems\u001b[0m\u001b[1;33m)\u001b[0m\u001b[1;33m\u001b[0m\u001b[1;33m\u001b[0m\u001b[0m\n\u001b[1;32m---> 64\u001b[1;33m             \u001b[0mprint\u001b[0m\u001b[1;33m(\u001b[0m\u001b[1;34mf'You take the {target.name}.'\u001b[0m\u001b[1;33m)\u001b[0m\u001b[1;33m\u001b[0m\u001b[1;33m\u001b[0m\u001b[0m\n\u001b[0m\u001b[0;32m     65\u001b[0m             \u001b[0mprint\u001b[0m\u001b[1;33m(\u001b[0m\u001b[0mtarget\u001b[0m\u001b[1;33m.\u001b[0m\u001b[0mdescription\u001b[0m\u001b[1;33m)\u001b[0m\u001b[1;33m\u001b[0m\u001b[1;33m\u001b[0m\u001b[0m\n\u001b[0;32m     66\u001b[0m \u001b[1;33m\u001b[0m\u001b[0m\n",
      "\u001b[1;31mAttributeError\u001b[0m: 'str' object has no attribute 'name'"
     ]
    }
   ],
   "source": [
    "print(room[hero.room].name)\n",
    "print(room[hero.room].description)\n",
    "\n",
    "while True:\n",
    "    \n",
    "    print()\n",
    "    action = input('Action? ').lower().split(' ')\n",
    "    \n",
    "    if len(action) > 1:\n",
    "        \n",
    "        target = action[1]\n",
    "        \n",
    "    action = action[0]\n",
    "    \n",
    "    if action in ('n', 'e', 's', 'w'):\n",
    "        \n",
    "        action += '_to'\n",
    "        \n",
    "        if getattr(room[hero.room], action) == None:\n",
    "            \n",
    "            print('cannot advance in this direction')\n",
    "            \n",
    "        else:\n",
    "            \n",
    "            hero.room = getattr(room[hero.room], action)\n",
    "            print(room[hero.room].name)\n",
    "            print(room[hero.room].description)\n",
    "            \n",
    "            if room[hero.room].items != None:\n",
    "                \n",
    "                print(f'The room contains: {[x.name for x in room[hero.room].items]}')\n",
    "#                 print(f'The room contains:')\n",
    "                \n",
    "#                 for item in room[hero.room].items:\n",
    "                    \n",
    "#                     print(item.name)\n",
    "    \n",
    "    elif action in ('i', 'inventory'):\n",
    "        \n",
    "        if len(hero.items) > 0:\n",
    "            \n",
    "            print('You hold these items:')\n",
    "            for item in hero.items:\n",
    "                \n",
    "                print(item.name)\n",
    "                            \n",
    "        else:\n",
    "            \n",
    "            print('You have no items.')\n",
    "        \n",
    "    \n",
    "    elif action in ('take', 'get'):\n",
    "        \n",
    "        stuff = []\n",
    "        for item in room[hero.room].items:\n",
    "                \n",
    "            stuff.append(item.name)\n",
    "        \n",
    "        if target in stuff:\n",
    "\n",
    "            hero.items.append(target)\n",
    "#             room[hero.room].items.remove(target)\n",
    "            print(room[hero.room].items)\n",
    "            print(f'You take the {target.name}.')\n",
    "            print(target.description)\n",
    "            \n",
    "        else:\n",
    "            \n",
    "            print('There is no such item here.')\n",
    "            print(room[hero.room].items)\n",
    "            \n",
    "    elif action == 'drop':\n",
    "        \n",
    "        if target in hero.items:\n",
    "            \n",
    "            hero.items.remove(target)\n",
    "            print(f'You drop the {target.name}; it hits the floor and shatters.')\n",
    "            \n",
    "        else:\n",
    "            \n",
    "            print('You possess no such item.')\n",
    "        \n",
    "    elif action == 'q':\n",
    "        \n",
    "        break\n",
    "        \n",
    "    else:\n",
    "        \n",
    "        print('Enter n, e, s, w to move, q to quit, i to see inventory, take <item>, or drop <item>')"
   ]
  },
  {
   "cell_type": "code",
   "execution_count": null,
   "metadata": {},
   "outputs": [],
   "source": []
  }
 ],
 "metadata": {
  "kernelspec": {
   "display_name": "Python 3",
   "language": "python",
   "name": "python3"
  },
  "language_info": {
   "codemirror_mode": {
    "name": "ipython",
    "version": 3
   },
   "file_extension": ".py",
   "mimetype": "text/x-python",
   "name": "python",
   "nbconvert_exporter": "python",
   "pygments_lexer": "ipython3",
   "version": "3.7.4"
  }
 },
 "nbformat": 4,
 "nbformat_minor": 4
}
